{
 "cells": [
  {
   "cell_type": "code",
   "execution_count": 3,
   "metadata": {},
   "outputs": [],
   "source": [
    "import torch\n",
    "import os\n",
    "import glob\n",
    "import numpy as np\n",
    "\n",
    "import matplotlib.pyplot as plt\n",
    "%matplotlib inline"
   ]
  },
  {
   "cell_type": "code",
   "execution_count": 4,
   "metadata": {},
   "outputs": [],
   "source": [
    "folders = glob.glob('Log_Output/*')\n",
    "models_train_loss_mean = {}\n",
    "models_train_loss_std = {}\n",
    "\n",
    "for folder in folders:\n",
    "    models_train_loss_mean[folder.split('/')[1]] = []\n",
    "    models_train_loss_std[folder.split('/')[1]] = []\n",
    "    files = glob.glob('%s/*'%(folder))\n",
    "    for f in files:\n",
    "        state_dict = torch.load(f)\n",
    "        assert len(state_dict.keys()) == 1\n",
    "        if 'train_loss' in list(state_dict.keys()):\n",
    "            state_dict = state_dict['train_loss']\n",
    "        elif 'losses_train' in list(state_dict.keys()):\n",
    "            state_dict = state_dict['losses_train']\n",
    "        else:\n",
    "            raise ValueError('No known key found - ', list(state_dict.keys()))\n",
    "        models_train_loss_mean[folder.split('/')[1]].append((int(f.split('/')[2].split('_')[1]), float(np.mean(state_dict))))\n",
    "        models_train_loss_std[folder.split('/')[1]].append((int(f.split('/')[2].split('_')[1]), float(np.std(state_dict))))\n",
    "        del state_dict"
   ]
  },
  {
   "cell_type": "code",
   "execution_count": 5,
   "metadata": {},
   "outputs": [],
   "source": [
    "# Sorting mean and std dev for each model\n",
    "for key, value in models_train_loss_mean.items():\n",
    "    sorted_losses = sorted(value, key=lambda x:x[0], reverse=False)\n",
    "    models_train_loss_mean[key] = sorted_losses\n",
    "    \n",
    "for key, value in models_train_loss_std.items():\n",
    "    sorted_losses = sorted(value, key=lambda x:x[0], reverse=False)\n",
    "    models_train_loss_std[key] = sorted_losses"
   ]
  },
  {
   "cell_type": "code",
   "execution_count": 6,
   "metadata": {},
   "outputs": [],
   "source": [
    "# Weighted average of epoch loss mean and std.\n",
    "models_train_loss = {}\n",
    "assert list(models_train_loss_mean.keys()) == list(models_train_loss_std.keys())\n",
    "for key in models_train_loss_mean.keys():\n",
    "    models_train_loss[key] = []\n",
    "    arr1 = models_train_loss_mean[key]\n",
    "    arr2 = models_train_loss_std[key]\n",
    "    assert len(arr1) == len(arr2)\n",
    "    assert list([i[0] for i in arr1]) == list([i[0] for i in arr2])\n",
    "    for i in arr1:\n",
    "        models_train_loss[key].append((i[0], 0.75*i[1] + 0.25*arr2[i[0]-1][1]))"
   ]
  },
  {
   "cell_type": "code",
   "execution_count": 7,
   "metadata": {},
   "outputs": [
    {
     "name": "stdout",
     "output_type": "stream",
     "text": [
      "COCO_lr_0_0001_Embed512_Adam 200\n",
      "Attn_alpha_1_0_COCO_lr_0_0001_Embed512_Adam 200\n",
      "COCO_lr_0_0001_Embed512_Res50_Adam 100\n",
      "COCO_lr_0_01_Embed512_SGD 100\n",
      "AttnLSTM_alpha_1_0_COCO_lr_0_0001_Embed512_Adam 115\n",
      "COCO_lr_0_001_Embed256_SGD 100\n",
      "COCO_lr_0_01_Embed256_SGD 100\n",
      "COCO_lr_0_01_Embed512_Adam 155\n",
      "COCO_lr_0_001_Embed512_SGD 100\n",
      "COCO_lr_0_001_Embed512_Adam 200\n",
      "COCO_lr_0_0001_Embed512_LSTM_Adam 100\n",
      "COCO_lr_0_0001_Embed512_SGD 100\n"
     ]
    }
   ],
   "source": [
    "for i in models_train_loss_mean.items():\n",
    "    print(i[0], len(i[1]))"
   ]
  },
  {
   "cell_type": "code",
   "execution_count": 12,
   "metadata": {},
   "outputs": [
    {
     "data": {
      "text/plain": [
       "['COCO_lr_0_0001_Embed512_Adam',\n",
       " 'Attn_alpha_1_0_COCO_lr_0_0001_Embed512_Adam',\n",
       " 'COCO_lr_0_0001_Embed512_Res50_Adam',\n",
       " 'COCO_lr_0_01_Embed512_SGD',\n",
       " 'AttnLSTM_alpha_1_0_COCO_lr_0_0001_Embed512_Adam',\n",
       " 'COCO_lr_0_001_Embed256_SGD',\n",
       " 'COCO_lr_0_01_Embed256_SGD',\n",
       " 'COCO_lr_0_01_Embed512_Adam',\n",
       " 'COCO_lr_0_001_Embed512_SGD',\n",
       " 'COCO_lr_0_001_Embed512_Adam',\n",
       " 'COCO_lr_0_0001_Embed512_LSTM_Adam',\n",
       " 'COCO_lr_0_0001_Embed512_SGD']"
      ]
     },
     "execution_count": 12,
     "metadata": {},
     "output_type": "execute_result"
    }
   ],
   "source": [
    "list(models_train_loss.keys())"
   ]
  },
  {
   "cell_type": "code",
   "execution_count": 18,
   "metadata": {},
   "outputs": [
    {
     "data": {
      "text/plain": [
       "[(1, 1.3245985174637822),\n",
       " (2, 0.5973922552571268),\n",
       " (3, 0.5530534717451889),\n",
       " (4, 0.5420283780207765),\n",
       " (5, 0.5379506763839139),\n",
       " (6, 0.5361399171954098),\n",
       " (7, 0.5352678656435281),\n",
       " (8, 0.534788574504388),\n",
       " (9, 0.5344878766573744),\n",
       " (10, 0.5343227070902997),\n",
       " (11, 0.5341726791410982),\n",
       " (12, 0.5340719586886686),\n",
       " (13, 0.5340319211442839),\n",
       " (14, 0.5339618442222717),\n",
       " (15, 0.5339189882961402),\n",
       " (16, 0.5338959007725245),\n",
       " (17, 0.5338456189394752),\n",
       " (18, 0.5338237044703655),\n",
       " (19, 0.533838397148873),\n",
       " (20, 0.5337945561547726),\n",
       " (21, 0.5337849941299536),\n",
       " (22, 0.5337627136986423),\n",
       " (23, 0.5337414176329036),\n",
       " (24, 0.5337617666521818),\n",
       " (25, 0.5337325432677144),\n",
       " (26, 0.5337324168571373),\n",
       " (27, 0.5337185060629731),\n",
       " (28, 0.5336996280983956),\n",
       " (29, 0.533724238253314),\n",
       " (30, 0.533725813518268),\n",
       " (31, 0.5337192645218298),\n",
       " (32, 0.5337035682965777),\n",
       " (33, 0.5336748434521575),\n",
       " (34, 0.5336922473175505),\n",
       " (35, 0.5337070350590413),\n",
       " (36, 0.533697924207438),\n",
       " (37, 0.5336710708502981),\n",
       " (38, 0.5336915068100966),\n",
       " (39, 0.5336658808475907),\n",
       " (40, 0.5336754298285681),\n",
       " (41, 0.5336714400366132),\n",
       " (42, 0.5336884515711627),\n",
       " (43, 0.5336838425559908),\n",
       " (44, 0.5336715419393226),\n",
       " (45, 0.5336808522069447),\n",
       " (46, 0.5336820006660714),\n",
       " (47, 0.5336788569183164),\n",
       " (48, 0.5336914973496267),\n",
       " (49, 0.5337118167047586),\n",
       " (50, 0.5336548216757824),\n",
       " (51, 0.5336874445400728),\n",
       " (52, 0.5336965541296659),\n",
       " (53, 0.5336536875063868),\n",
       " (54, 0.533682333806799),\n",
       " (55, 0.5336892841823244),\n",
       " (56, 0.5336806481919585),\n",
       " (57, 0.5336838283883154),\n",
       " (58, 0.5336469532869375),\n",
       " (59, 0.533691296399851),\n",
       " (60, 0.5336824983286992),\n",
       " (61, 0.533669850670769),\n",
       " (62, 0.5336629430654106),\n",
       " (63, 0.5336696931060448),\n",
       " (64, 0.5336953720107954),\n",
       " (65, 0.5336842072147295),\n",
       " (66, 0.5336659706253309),\n",
       " (67, 0.5336929611316485),\n",
       " (68, 0.5336838170256186),\n",
       " (69, 0.5336930368015897),\n",
       " (70, 0.5336813956796179),\n",
       " (71, 0.5336809509154791),\n",
       " (72, 0.5336591488458708),\n",
       " (73, 0.5336805585086387),\n",
       " (74, 0.5336596716519771),\n",
       " (75, 0.533684601033271),\n",
       " (76, 0.533695855943306),\n",
       " (77, 0.5336652514937488),\n",
       " (78, 0.5336730868791872),\n",
       " (79, 0.5336753699222384),\n",
       " (80, 0.5337023327633601),\n",
       " (81, 0.5336775106229864),\n",
       " (82, 0.5336495937920457),\n",
       " (83, 0.5336712238782341),\n",
       " (84, 0.5336769796138144),\n",
       " (85, 0.5337003521513565),\n",
       " (86, 0.5336740783009626),\n",
       " (87, 0.5336807212250355),\n",
       " (88, 0.5336832163894152),\n",
       " (89, 0.5336921080542757),\n",
       " (90, 0.5336666006608426),\n",
       " (91, 0.5336650752959522),\n",
       " (92, 0.5336803662662721),\n",
       " (93, 0.533666241952896),\n",
       " (94, 0.5336938142389596),\n",
       " (95, 0.5336979905550856),\n",
       " (96, 0.5336856114796182),\n",
       " (97, 0.5336770287953613),\n",
       " (98, 0.5336779905299611),\n",
       " (99, 0.533702093043621),\n",
       " (100, 0.5336823112080671),\n",
       " (101, 0.5336770853670365),\n",
       " (102, 0.5336711983478619),\n",
       " (103, 0.5337237161519068),\n",
       " (104, 0.5336754245018721),\n",
       " (105, 0.5336920381785268),\n",
       " (106, 0.5337044972833973),\n",
       " (107, 0.5336531638574051),\n",
       " (108, 0.5336742134627046),\n",
       " (109, 0.5336692342064718),\n",
       " (110, 0.5337123734055085),\n",
       " (111, 0.5336988318322035),\n",
       " (112, 0.5336714034037763),\n",
       " (113, 0.533684099658307),\n",
       " (114, 0.5336649606579948),\n",
       " (115, 0.5336656771780451),\n",
       " (116, 0.5336936643153841),\n",
       " (117, 0.5336739144284909),\n",
       " (118, 0.533690453639641),\n",
       " (119, 0.5337048283768128),\n",
       " (120, 0.5336998936962505),\n",
       " (121, 0.5336640338244223),\n",
       " (122, 0.5336652563667659),\n",
       " (123, 0.5336741144755148),\n",
       " (124, 0.5336662271910625),\n",
       " (125, 0.5336733387515309),\n",
       " (126, 0.5337058021442643),\n",
       " (127, 0.5336495863397379),\n",
       " (128, 0.5336576826411581),\n",
       " (129, 0.5336625289787107),\n",
       " (130, 0.5337125976402916),\n",
       " (131, 0.5337245680801136),\n",
       " (132, 0.5336903547537805),\n",
       " (133, 0.5337169647824772),\n",
       " (134, 0.5337074117091789),\n",
       " (135, 0.5337113874992699),\n",
       " (136, 0.5336689823940045),\n",
       " (137, 0.5337038978101776),\n",
       " (138, 0.5336903614944805),\n",
       " (139, 0.5336797334280847),\n",
       " (140, 0.5336972198399922),\n",
       " (141, 0.5336502165525758),\n",
       " (142, 0.5337073648167526),\n",
       " (143, 0.5336813248458467),\n",
       " (144, 0.5336904623562618),\n",
       " (145, 0.5336947646546185),\n",
       " (146, 0.5336967899205926),\n",
       " (147, 0.533662100176236),\n",
       " (148, 0.5336819884720141),\n",
       " (149, 0.5337031923741685),\n",
       " (150, 0.5337085625679671),\n",
       " (151, 0.5336840711594475),\n",
       " (152, 0.5336910957448514),\n",
       " (153, 0.5337047511500854),\n",
       " (154, 0.5336776677662729),\n",
       " (155, 0.5336820514251309),\n",
       " (156, 0.5336777310210746),\n",
       " (157, 0.5336749302222605),\n",
       " (158, 0.5336621482270402),\n",
       " (159, 0.5336818267550925),\n",
       " (160, 0.5337001916158421),\n",
       " (161, 0.5336672327137281),\n",
       " (162, 0.5336882893936535),\n",
       " (163, 0.53370022620367),\n",
       " (164, 0.533726830451992),\n",
       " (165, 0.5336876528799769),\n",
       " (166, 0.5336893064494332),\n",
       " (167, 0.5336920252014704),\n",
       " (168, 0.5336830976315015),\n",
       " (169, 0.533684806103003),\n",
       " (170, 0.5337289936017809),\n",
       " (171, 0.533694511884129),\n",
       " (172, 0.5336580927000193),\n",
       " (173, 0.5336553309843682),\n",
       " (174, 0.5336824108861383),\n",
       " (175, 0.5337448911959435),\n",
       " (176, 0.5336611790447384),\n",
       " (177, 0.5336935771330552),\n",
       " (178, 0.5337007250200697),\n",
       " (179, 0.5337246121353201),\n",
       " (180, 0.5336782058155267),\n",
       " (181, 0.5337294719013048),\n",
       " (182, 0.5336778509557897),\n",
       " (183, 0.5336636826701128),\n",
       " (184, 0.5337152005499347),\n",
       " (185, 0.5336903254995574),\n",
       " (186, 0.5336669231274518),\n",
       " (187, 0.5336711303789459),\n",
       " (188, 0.53366970125384),\n",
       " (189, 0.5337005092762195),\n",
       " (190, 0.5337298794039047),\n",
       " (191, 0.5336440625722069),\n",
       " (192, 0.5336818982981685),\n",
       " (193, 0.5336765050381416),\n",
       " (194, 0.5336599702946914),\n",
       " (195, 0.533677626516045),\n",
       " (196, 0.5336473289675381),\n",
       " (197, 0.5336625521140271),\n",
       " (198, 0.5336850346028275),\n",
       " (199, 0.5336709153490065),\n",
       " (200, 0.5336442752047877)]"
      ]
     },
     "execution_count": 18,
     "metadata": {},
     "output_type": "execute_result"
    }
   ],
   "source": [
    "models_train_loss_mean['Attn_alpha_1_0_COCO_lr_0_0001_Embed512_Adam']"
   ]
  },
  {
   "cell_type": "code",
   "execution_count": 19,
   "metadata": {
    "scrolled": false
   },
   "outputs": [
    {
     "name": "stdout",
     "output_type": "stream",
     "text": [
      "0.5336440625722069 191\n"
     ]
    },
    {
     "data": {
      "image/png": "[encoded data removed]",
      "text/plain": [
       "<Figure size 504x360 with 1 Axes>"
      ]
     },
     "metadata": {
      "needs_background": "light"
     },
     "output_type": "display_data"
    },
    {
     "name": "stdout",
     "output_type": "stream",
     "text": [
      "0.5336943144348193 95\n"
     ]
    },
    {
     "data": {
      "image/png": "[encoded data removed]",
      "text/plain": [
       "<Figure size 504x360 with 1 Axes>"
      ]
     },
     "metadata": {
      "needs_background": "light"
     },
     "output_type": "display_data"
    }
   ],
   "source": [
    "for key, value in models_train_loss_mean.items():\n",
    "    if 'SGD' in key or 'Attn' not in key:\n",
    "        continue\n",
    "    sorted_losses = sorted(value, key=lambda x:x[0], reverse=False)\n",
    "    value = [i[1] for i in value]\n",
    "    if len(value) > 0:\n",
    "        print(min(value), value.index(min(value))+1)\n",
    "        plt.figure(figsize=(7, 5))\n",
    "        plt.plot(value, marker='.')\n",
    "        plt.title(key)\n",
    "        plt.show()\n",
    "    else:\n",
    "        print(\"No data for %s.\"%(key))"
   ]
  },
  {
   "cell_type": "code",
   "execution_count": null,
   "metadata": {},
   "outputs": [],
   "source": []
  }
 ],
 "metadata": {
  "kernelspec": {
   "display_name": "Python 3",
   "language": "python",
   "name": "python3"
  },
  "language_info": {
   "codemirror_mode": {
    "name": "ipython",
    "version": 3
   },
   "file_extension": ".py",
   "mimetype": "text/x-python",
   "name": "python",
   "nbconvert_exporter": "python",
   "pygments_lexer": "ipython3",
   "version": "3.6.0"
  }
 },
 "nbformat": 4,
 "nbformat_minor": 2
}
